{
 "cells": [
  {
   "cell_type": "markdown",
   "id": "634901e3",
   "metadata": {},
   "source": [
    " ### Escuela Politécnica Nacional ### \n",
    "\n",
    "**Nombre:** Kevin Eduardo Garcia Rodriguez\n",
    "\n",
    "**Tema:** [Tarea 03] Ejercicios Unidad 01-B\n",
    "\n",
    "**Repositorio de GitHub:** https://github.com/Nattyrd/Metodos-Numericos-2025B"
   ]
  },
  {
   "cell_type": "markdown",
   "id": "560b844e",
   "metadata": {},
   "source": [
    "<span style=color:blue>\n",
    "\n",
    "1. Utilice aritmética de corte de tres dígitos para calcular las siguientes sumas. Para cada parte, ¿qué método es más preciso y por qué? </span>\n",
    "\n",
    "    a. $\\sum_{i=1}^{10} \\left ( \\frac{1}{i^2} \\right)$ primero por: $\\frac{1}{1}+ \\frac{1}{4} + \\cdots + \\frac{1}{100}$ Y luego por: $\\frac{1}{100} + \\frac{1}{81} + \\cdots + \\frac{1}{1}$\n",
    "\n",
    "    b.  $\\sum_{i=1}^{10} \\left( \\frac{1}{i^3} \\right)$ primero por: $\\frac{1}{1} + \\frac{1}{8} + \\frac{1}{27} + \\cdots + \\frac{1}{1000}$ Y luego por: $\\frac{1}{1000} + \\frac{1}{729} + \\cdots + \\frac{1}{1}$\n"
   ]
  },
  {
   "cell_type": "code",
   "execution_count": 15,
   "id": "46bd5b82",
   "metadata": {},
   "outputs": [
    {
     "name": "stdout",
     "output_type": "stream",
     "text": [
      "Suma A ascendente: 1.53\n",
      "Suma A descendente: 1.53\n",
      "Valor real de la serie A: 1.547\n",
      "\n",
      "Suma B ascendente: 1.16\n",
      "Suma B descendente: 1.16\n",
      "Valor real de la serie B: 1.1939999999999995\n"
     ]
    }
   ],
   "source": [
    "from decimal import Decimal, getcontext, ROUND_DOWN\n",
    "\n",
    "#Trunca a tres cifras significativas.\n",
    "def cortar_tres_digitos(x):\n",
    "    if x == 0:\n",
    "        return 0.0\n",
    "    \n",
    "    d = Decimal(str(x))\n",
    "    exponent = len(str(int(d.copy_abs()))) - 1\n",
    "    getcontext().prec = 3\n",
    "    return float(d.scaleb(-exponent).quantize(Decimal('1.00'), rounding=ROUND_DOWN).scaleb(exponent))\n",
    "\n",
    "#Suma la serie usando corte de 3 cifras significativas en cada paso.\n",
    "def suma_con_corte(serie, orden='asc'):\n",
    "    total = 0.0\n",
    "    datos = serie if orden == 'asc' else reversed(serie)\n",
    "    for x in datos:\n",
    "        total = cortar_tres_digitos(total + cortar_tres_digitos(x))\n",
    "    return total\n",
    "\n",
    "# Serie a: \n",
    "# 1/i^2 para i = 1 a 10\n",
    "serie_a = [1 / (i**2) for i in range(1, 11)]\n",
    "\n",
    "\n",
    "# Serie \n",
    "# b: 1/i^3 para i = 1 a 10\n",
    "serie_b = [1 / (i**3) for i in range(1, 11)]\n",
    "\n",
    "# Sumas con corte (ascendente y descendente)\n",
    "resultado_a_asc = suma_con_corte(serie_a, orden='asc')\n",
    "resultado_a_desc = suma_con_corte(serie_a, orden='desc')\n",
    "\n",
    "resultado_b_asc = suma_con_corte(serie_b, orden='asc')\n",
    "resultado_b_desc = suma_con_corte(serie_b, orden='desc')\n",
    "\n",
    "print(f\"Suma A ascendente: {resultado_a_asc}\")\n",
    "print(f\"Suma A descendente: {resultado_a_desc}\")\n",
    "\n",
    "# Serie a:\n",
    "# valor real a\n",
    "def corte_3_decimales(x):\n",
    "    return int(x * 1000) / 1000  \n",
    "sumaA = 0.0\n",
    "for i in range(1, 11):\n",
    "    sumaA += corte_3_decimales(1 / i**2)\n",
    "print(f\"Valor real de la serie A: {sumaA}\")\n",
    "\n",
    "print(f\"\")\n",
    "print(f\"Suma B ascendente: {resultado_b_asc}\")\n",
    "print(f\"Suma B descendente: {resultado_b_desc}\")\n",
    "\n",
    "# Serie b:\n",
    "# valor real b\n",
    "def corte_3_decimales(x):\n",
    "    return int(x * 1000) / 1000  \n",
    "sumaB = 0.0\n",
    "for i in range(1, 11):\n",
    "    sumaB += corte_3_decimales(1 / i**3)\n",
    "print(f\"Valor real de la serie B: {sumaB}\")\n"
   ]
  },
  {
   "cell_type": "markdown",
   "id": "36f745e2",
   "metadata": {},
   "source": [
    "Para determinar cual método es el más preciso, procedemos a calcular el error relativo para cada método, con la siguiente fórmula:\n",
    "\n",
    "$$\n",
    "Error_ {relativo}  = \\left | \\frac{x -x'}{x} \\right|\n",
    "$$\n",
    "\n",
    "donde: \n",
    "\n",
    "x = es el valor real. \n",
    "\n",
    "x'=  el valor aproximado."
   ]
  },
  {
   "cell_type": "code",
   "execution_count": 24,
   "id": "f9231774",
   "metadata": {},
   "outputs": [
    {
     "name": "stdout",
     "output_type": "stream",
     "text": [
      "Error serie A: 0.010989010989010927 \n",
      "\n",
      "Error serie B: 0.028475711892796986\n"
     ]
    }
   ],
   "source": [
    "def error_serieA(sumaA, resultado_a_asc):\n",
    "    return abs((sumaA - resultado_a_asc) / sumaA)\n",
    "print(f\"Error serie A: {error_serieA(sumaA, resultado_a_asc)} \")\n",
    "\n",
    "print(f\"\")\n",
    "\n",
    "def error_serieB(sumaB, resultado_b_asc):\n",
    "    return abs((sumaB - resultado_b_asc) / sumaB)\n",
    "print(f\"Error serie B: {error_serieB(sumaB, resultado_b_asc)}\")"
   ]
  },
  {
   "cell_type": "markdown",
   "id": "57e29880",
   "metadata": {},
   "source": [
    "Observando los dos errores de la serie A y B, se puede observar que los errores son de la misma magnitud, pero el error de la serie B es mayor que el de la serie A. Por lo que se puede concluir que la serie A es más precisa que la serie B."
   ]
  },
  {
   "cell_type": "markdown",
   "id": "ce09adb6",
   "metadata": {},
   "source": [
    "<span style=\"color:blue\">\n",
    "\n",
    "2. La serie de Maclaurin para la función arcotangente converge para −1 < 𝑥 ≤ 1 y está dada por:\n",
    "\n",
    "    $$arctan x = \\lim_{n \\to \\infty} P_n(x) = lim_{n \\to \\infty} \\sum_{i=1}^{n} (-1)^{i+1} \\frac{x^{2i-1}}{2i-1}$$\n",
    "\n",
    "    a. Utilice el hecho de que tan $\\frac {𝜋}{4}$ = 1 para determinar el número n de términos de la serie que se necesita sumar para garantizar que \n",
    "    $| 4𝑃𝑛(1) − 𝜋 |$ < $10^{−3}$\n",
    "    \n",
    "\n",
    "    b. El lenguaje de programación C++ requiere que el valor de 𝜋 se encuentre dentro de $10^{10}$. ¿Cuántos términos de la serie se necesitarían sumar para obtener este grado de precisión?"
   ]
  },
  {
   "cell_type": "code",
   "execution_count": 31,
   "id": "6eb7354d",
   "metadata": {},
   "outputs": [
    {
     "name": "stdout",
     "output_type": "stream",
     "text": [
      "𝜋 ≈ 3.1420924036835256, \n",
      "el numero de términos requerido en la serie es: 2001\n"
     ]
    }
   ],
   "source": [
    "def aproximar_pi_con_error(toleracia_error):\n",
    "    suma = 0.0\n",
    "    i = 1\n",
    "    while True:\n",
    "        termino = (-1)**(i + 1) / (2 * i - 1)\n",
    "        suma += termino\n",
    "        temp_error = 4 * abs(termino)\n",
    "        if temp_error < toleracia_error:\n",
    "            break\n",
    "        i += 1\n",
    "    pi_aproximado = 4 * suma\n",
    "    return pi_aproximado, i\n",
    "\n",
    "pi, n = aproximar_pi_con_error(1e-3)\n",
    "print(f\"𝜋 ≈ {pi}, \\nel numero de términos requerido en la serie es: {n}\")"
   ]
  },
  {
   "cell_type": "markdown",
   "id": "f7665684",
   "metadata": {},
   "source": [
    "<span style=\"color:blue\">\n",
    "\n",
    "3. Otra fórmula para calcular 𝜋 se puede deducir a partir de la identidad $\\frac{𝜋}{4} = 4 arctan \\frac{1}{5} - arctan \\frac{1}{239}  $. Determine el número de términos que se deben sumar para garantizar una aproximación 𝜋 dentro de $10^{-3}$."
   ]
  },
  {
   "cell_type": "code",
   "execution_count": 1,
   "id": "57284cdb",
   "metadata": {},
   "outputs": [
    {
     "name": "stdout",
     "output_type": "stream",
     "text": [
      "Se necesitan N1 = 3 términos para arctan(1/5)\n",
      "Se necesitan N2 = 1 términos para arctan(1/239)\n",
      "Cota teórica del error en π: 2.935e-05\n",
      "Aproximación de π: 3.1416209317\n",
      "Valor real de π:    3.1415926536\n",
      "Error real:         2.828e-05\n"
     ]
    }
   ],
   "source": [
    "import math\n",
    "\n",
    "# Valores dados por la identidad de Machin:\n",
    "# π/4 = 4 arctan(1/5) – arctan(1/239)\n",
    "x1 = 1/5\n",
    "x2 = 1/239\n",
    "target = 1e-3  # Queremos que el error en π sea menor que 10^-3\n",
    "\n",
    "\n",
    "def remainder_bound(x, n):\n",
    "    \"\"\"\n",
    "    Cota superior del resto (error) de la serie de arctan(x)\n",
    "    después de sumar hasta el término n (0-based).\n",
    "    R_n <= x^(2n+3) / (2n+3)\n",
    "    \"\"\"\n",
    "    return x**(2*n+3) / (2*n+3)\n",
    "\n",
    "\n",
    "# Buscamos los mínimos n1 y n2 tales que el error total en π <= 10^-3\n",
    "min_solution = None\n",
    "for n1 in range(0, 50):\n",
    "    for n2 in range(0, 50):\n",
    "        R1 = remainder_bound(x1, n1)\n",
    "        R2 = remainder_bound(x2, n2)\n",
    "        err_bound = 16 * R1 + 4 * R2  # error máximo en π\n",
    "        if err_bound <= target:\n",
    "            min_solution = (n1, n2, err_bound)\n",
    "            break\n",
    "    if min_solution:\n",
    "        break\n",
    "\n",
    "# Función para calcular la suma parcial de la serie de arctan\n",
    "def arctan_partial(x, n):\n",
    "    \"\"\"\n",
    "    Calcula la suma parcial de la serie de arctan(x)\n",
    "    desde k = 0 hasta k = n (inclusive).\n",
    "    \"\"\"\n",
    "    s = 0.0\n",
    "    for k in range(n + 1):\n",
    "        term = ((-1)**k) * (x**(2*k + 1)) / (2*k + 1)\n",
    "        s += term\n",
    "    return s\n",
    "\n",
    "\n",
    "# Aplicamos la fórmula de Machin con los n1 y n2 hallados\n",
    "n1, n2, bound_est = min_solution\n",
    "S1 = arctan_partial(x1, n1)\n",
    "S2 = arctan_partial(x2, n2)\n",
    "pi_approx = 16 * S1 - 4 * S2\n",
    "pi_true = math.pi\n",
    "error_real = abs(pi_approx - pi_true)\n",
    "\n",
    "# Mostramos resultados\n",
    "print(f\"Se necesitan N1 = {n1+1} términos para arctan(1/5)\")\n",
    "print(f\"Se necesitan N2 = {n2+1} términos para arctan(1/239)\")\n",
    "print(f\"Cota teórica del error en π: {bound_est:.3e}\")\n",
    "print(f\"Aproximación de π: {pi_approx:.10f}\")\n",
    "print(f\"Valor real de π:    {pi_true:.10f}\")\n",
    "print(f\"Error real:         {error_real:.3e}\")\n"
   ]
  },
  {
   "cell_type": "markdown",
   "id": "1fdfd593",
   "metadata": {},
   "source": [
    "<span style=\"color:blue\">4. Compare los siguientes tres algoritmos. ¿Cuándo es correcto el algoritmo de la parte 1a?"
   ]
  },
  {
   "cell_type": "markdown",
   "id": "9e17a8d2",
   "metadata": {},
   "source": [
    "| 1° Algoritmo|\n",
    "|-----------|\n",
    "| ENTRADA 𝑛, 𝑥1, 𝑥2, ⋯ , 𝑥𝑛. \n",
    "SALIDA PRODUCT.\n",
    "Paso 1 Determine PRODUCT = 0.\n",
    "Paso 2 Para 𝑖 = 1, 2, ⋯ , 𝑛 haga\n",
    "Determine PRODUCT = PRODUCT ∗ 𝑥𝑖.\n",
    "Paso 3 SALIDA PRODUCT;\n",
    "PARE. | \n",
    "\n",
    "\n",
    "| 2° Algoritmo|\n",
    "|-----------|\n",
    "| ENTRADA 𝑛, 𝑥1, 𝑥2, ⋯ , 𝑥𝑛.\n",
    "SALIDA PRODUCT.\n",
    "Paso 1 Determine PRODUCT = 1.\n",
    "Paso 2 Para 𝑖 = 1, 2, ⋯ , 𝑛 haga\n",
    "Set PRODUCT = PRODUCT ∗ 𝑥𝑖.\n",
    "Paso 3 SALIDA PRODUCT;\n",
    "PARE. | \n",
    "\n",
    "\n",
    "| 3° Algoritmo|\n",
    "|-----------|\n",
    "| ENTRADA 𝑛, 𝑥1, 𝑥2, ⋯ , 𝑥𝑛.\n",
    "SALIDA PRODUCT.\n",
    "Paso 1 Determine PRODUCT = 1.\n",
    "Paso 2 Para 𝑖 = 1, 2, ⋯ , 𝑛 haga\n",
    "si 𝑥𝑖 = 0 entonces determine PRODUCT = 0;\n",
    "SALIDA PRODUCT;\n",
    "PARE\n",
    "Determine PRODUCT = PRODUCT ∗ 𝑥𝑖.\n",
    "Paso 3 SALIDA PRODUCT;\n",
    "PARE. | \n"
   ]
  },
  {
   "cell_type": "markdown",
   "id": "05db9dfd",
   "metadata": {},
   "source": [
    "El b) algoritmo es el correcto, cumple con enunciado "
   ]
  },
  {
   "cell_type": "markdown",
   "id": "fccd2a80",
   "metadata": {},
   "source": [
    "<span style=color:blue>\n",
    "\n",
    "5. a. ¿Cuántas multiplicaciones y sumas se requieren para determinar una suma de la forma\n",
    "\n",
    "  $$\\sum_{i=1}^{n} \\sum_{j}^{i}  a_i b_j? $$\n",
    "\n",
    "b. Modifique la suma en la parte a) a un formato equivalente que reduzca el número de cálculos."
   ]
  },
  {
   "cell_type": "code",
   "execution_count": 33,
   "id": "897eedc1",
   "metadata": {},
   "outputs": [
    {
     "name": "stdout",
     "output_type": "stream",
     "text": [
      "Suma original: 185\n",
      "Suma optimizada: 185\n"
     ]
    }
   ],
   "source": [
    "def suma_original(a, b):\n",
    "    \"\"\"Calcula la suma usando el orden original.\"\"\"\n",
    "    n = len(a)\n",
    "    total = 0\n",
    "    for i in range(n):\n",
    "        for j in range(i + 1):\n",
    "            total += a[i] * b[j]\n",
    "    return total\n",
    "\n",
    "def suma_optimizada(a, b):\n",
    "    \"\"\"Calcula la suma con menos operaciones usando la transformación equivalente.\"\"\"\n",
    "    n = len(a)\n",
    "    suma_ai = [0] * n\n",
    "    # Calcula sumas parciales acumuladas desde a[j] hasta a[n-1]\n",
    "    acumulado = 0\n",
    "    for j in reversed(range(n)):\n",
    "        acumulado += a[j]\n",
    "        suma_ai[j] = acumulado\n",
    "\n",
    "    total = 0\n",
    "    for j in range(n):\n",
    "        total += b[j] * suma_ai[j]\n",
    "    return total\n",
    "\n",
    "# Ejemplo\n",
    "a = [1, 2, 3, 4]\n",
    "b = [5, 6, 7, 8]\n",
    "\n",
    "print(\"Suma original:\", suma_original(a, b))\n",
    "print(\"Suma optimizada:\", suma_optimizada(a, b))\n"
   ]
  },
  {
   "cell_type": "markdown",
   "id": "6f26200b",
   "metadata": {},
   "source": [
    "## Discuciones ##"
   ]
  },
  {
   "cell_type": "markdown",
   "id": "9cc60fc2",
   "metadata": {},
   "source": [
    "<span style=\"color:blue\">\n",
    "\n",
    "1. Escriba un algoritmo para sumar la serie finita  $ \\sum_{i=1}^{n} x_j $ en orden inverso.\n",
    "</span>"
   ]
  },
  {
   "cell_type": "markdown",
   "id": "27ac7fe6",
   "metadata": {},
   "source": [
    "ENTRADA: n, x_1, x_2, ..., x_n\n",
    "\n",
    "SALIDA: suma_total\n",
    "\n",
    "Paso 1: Inicializar suma_total = 0\n",
    "\n",
    "Paso 2: Para i desde n hasta 1 ( decrementa -1):\n",
    "\n",
    "    suma_total = suma_total + x_i\n",
    "\n",
    "Paso 3: Devolver suma_total\n",
    "\n",
    "FIN"
   ]
  },
  {
   "cell_type": "markdown",
   "id": "76311b42",
   "metadata": {},
   "source": [
    "<span style=\"color:blue\">\n",
    "\n",
    "  2.  Las ecuaciones (1.2) y (1.3) en la sección 1.2 proporcionan formas alternativas para las raíces $𝑥_1 $ y $ 𝑥_2$ de $ax^2 + bx +c = 0$. Construya un algoritmo con entrada 𝑎, 𝑏, 𝑐 c y salida 𝑥1, 𝑥2 que calcule las raíces $𝑥_1 $ y $ 𝑥_2$  (que pueden ser iguales con conjugados complejos) mediante la mejor fórmula para cada raíz.\n"
   ]
  },
  {
   "cell_type": "markdown",
   "id": "340fdbce",
   "metadata": {},
   "source": [
    "```plaintext\n",
    "ENTRADA: 𝑎, 𝑏, 𝑐 \n",
    "SALIDA: x_1 , x_2\n",
    "\n",
    "ENTRADA: a, b, c\n",
    "SALIDA: x1, x2\n",
    "\n",
    "Paso 1: Calcular discriminante D = b² - 4ac\n",
    "\n",
    "Paso 2: Si D ≥ 0:\n",
    "    Si b ≥ 0:\n",
    "        x1 = [2c] / [-b - √D]  # Fórmula (1.3) para raíz más pequeña\n",
    "        x2 = [-b - √D] / [2a]   # Fórmula (1.2) para raíz más grande\n",
    "    Sino:\n",
    "        x1 = [-b + √D] / [2a]   # Fórmula (1.2) para raíz más grande\n",
    "        x2 = [2c] / [-b + √D]   # Fórmula (1.3) para raíz más pequeña\n",
    "Sino (D < 0):\n",
    "    Calcular parte real = -b/(2a)\n",
    "    parte imaginaria = √|D|/(2a)\n",
    "    x1 = parte real + parte imaginaria*i\n",
    "    x2 = parte real - parte imaginaria*i\n",
    "FIN"
   ]
  },
  {
   "cell_type": "markdown",
   "id": "3c5c4db2",
   "metadata": {},
   "source": [
    "<span style=\"color:blue\">\n",
    "\n",
    "3. suponga que \n",
    "$$ \\frac{1-2x}{1-x+x^2} + \\frac{2x-4x^3}{1-x^{2}+x^{3}} + \\frac{4x^3-8x^7}{1-x^4+x^{8} }  + ... = \\frac{1+2x}{1+x+x^{2}}  $$\n",
    "para 𝑥 < 1 y si 𝑥 = 0.25. Escriba y ejecute un algoritmo que determine el número de términos necesarios en el lado izquierdo de la ecuación de tal forma que el lado izquierdo difiera del lado derecho en menos de $10^{-6}$\n",
    "\n",
    "</span>"
   ]
  },
  {
   "cell_type": "code",
   "execution_count": 1,
   "id": "b4400026",
   "metadata": {},
   "outputs": [
    {
     "name": "stdout",
     "output_type": "stream",
     "text": [
      "Se necesitan 4 términos para que la suma difiera del lado derecho en menos de 1e-06\n"
     ]
    }
   ],
   "source": [
    "x = 0.25\n",
    "diferencia = 1e-6\n",
    "right_side = (1 + 2 * x) / (1 + x + x ** 2)\n",
    "\n",
    "sum_left = 0\n",
    "n = 0\n",
    "while True:\n",
    "    num = (2**n) * (x**(2**n - 1)) - (2**(n + 1)) * (x**(2**(n + 1) - 1))\n",
    "    den = 1 - x**(2**n) + x**(2**(n + 1))\n",
    "    term = num / den\n",
    "    sum_left += term\n",
    "\n",
    "    if abs(sum_left - right_side) < diferencia:\n",
    "        break\n",
    "\n",
    "    n += 1\n",
    "\n",
    "print(f\"Se necesitan {n + 1} términos para que la suma difiera del lado derecho en menos de {diferencia:.0e}\")\n"
   ]
  }
 ],
 "metadata": {
  "kernelspec": {
   "display_name": "Python 3",
   "language": "python",
   "name": "python3"
  },
  "language_info": {
   "codemirror_mode": {
    "name": "ipython",
    "version": 3
   },
   "file_extension": ".py",
   "mimetype": "text/x-python",
   "name": "python",
   "nbconvert_exporter": "python",
   "pygments_lexer": "ipython3",
   "version": "3.13.8"
  }
 },
 "nbformat": 4,
 "nbformat_minor": 5
}
